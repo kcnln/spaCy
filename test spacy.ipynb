{
 "cells": [
  {
   "cell_type": "code",
   "execution_count": null,
   "id": "c3600d39",
   "metadata": {},
   "outputs": [],
   "source": [
    "import spacy \n",
    "from spacy.lookups import Lookups"
   ]
  },
  {
   "cell_type": "code",
   "execution_count": null,
   "id": "bf492c91",
   "metadata": {},
   "outputs": [],
   "source": [
    "nlp = spacy.blank(\"cy\")"
   ]
  },
  {
   "cell_type": "code",
   "execution_count": null,
   "id": "2236aafa",
   "metadata": {},
   "outputs": [],
   "source": [
    "text = (\"Sgen ti\")"
   ]
  },
  {
   "cell_type": "code",
   "execution_count": null,
   "id": "040f70a3",
   "metadata": {},
   "outputs": [],
   "source": [
    "doc = nlp(text)"
   ]
  },
  {
   "cell_type": "code",
   "execution_count": null,
   "id": "4b6042fe",
   "metadata": {},
   "outputs": [],
   "source": [
    "print(type(doc))"
   ]
  },
  {
   "cell_type": "code",
   "execution_count": null,
   "id": "12b1cb15",
   "metadata": {},
   "outputs": [],
   "source": [
    "for token in doc:\n",
    "    print(token.text)"
   ]
  },
  {
   "cell_type": "code",
   "execution_count": null,
   "id": "7d9b1cad",
   "metadata": {},
   "outputs": [],
   "source": [
    "from spacy.lang.cy import Welsh"
   ]
  },
  {
   "cell_type": "code",
   "execution_count": null,
   "id": "bc439338",
   "metadata": {},
   "outputs": [],
   "source": [
    "@spacy.registry.languages(\"cy\")\n",
    "class Welsh(Welsh):\n",
    "    lang = \"cy\""
   ]
  },
  {
   "cell_type": "code",
   "execution_count": null,
   "id": "857edfe9",
   "metadata": {},
   "outputs": [],
   "source": [
    "nlp = spacy.blank(\"cy\")"
   ]
  },
  {
   "cell_type": "code",
   "execution_count": null,
   "id": "e4c3eafb",
   "metadata": {},
   "outputs": [],
   "source": [
    "text = (\"Sgen ti\")\n",
    "doc = nlp(text)"
   ]
  },
  {
   "cell_type": "code",
   "execution_count": null,
   "id": "7e3aa5d5",
   "metadata": {},
   "outputs": [],
   "source": [
    "for token in doc:\n",
    "    print(token.text, token.lemma_)"
   ]
  },
  {
   "cell_type": "code",
   "execution_count": null,
   "id": "13ea4636",
   "metadata": {},
   "outputs": [],
   "source": []
  },
  {
   "cell_type": "code",
   "execution_count": 1,
   "id": "7283410c",
   "metadata": {},
   "outputs": [],
   "source": [
    "import spacy \n",
    "from spacy.language import Language\n",
    "nlp = spacy.blank(\"cy\")\n",
    "nlp.add_pipe(\"lemmatizer\", config={\"mode\": \"lookup\"})\n",
    "nlp.add_pipe(\"transcriber\", config={\"mode\": \"lookup\"})\n",
    "nlp.initialize()\n",
    "from spacy.tokens import Token\n",
    "Token.set_extension(\"ipa_\", default=False)"
   ]
  },
  {
   "cell_type": "code",
   "execution_count": null,
   "id": "8e39337c",
   "metadata": {},
   "outputs": [],
   "source": []
  },
  {
   "cell_type": "code",
   "execution_count": 2,
   "id": "f3516e76",
   "metadata": {},
   "outputs": [
    {
     "name": "stdout",
     "output_type": "stream",
     "text": [
      "ar    ( a r )\n",
      "ôl    ( oː l )\n",
      "cyfnod    ( k ə v n ɔ d )\n",
      "yn    ( ə n )\n",
      "yr    ( ə r )\n",
      "ysgol    ( ə s ɡ ɔ l )\n",
      "lleol    ( ɬ eː ɔ l )\n",
      "gweithio    ( ɡ w e i̯ θ j ɔ )\n",
      "gartref    ( ɡ a r t r ɛ v )\n",
      "ar    ( a r )\n",
      "fferm    ( f ɛ r m )\n",
      "ei    ( e i̯ )\n",
      "dad    ( d aː d )\n"
     ]
    }
   ],
   "source": [
    "text = (\"ar ôl cyfnod yn yr ysgol lleol gweithio gartref ar fferm ei dad\")\n",
    "doc = nlp(text)\n",
    "\n",
    "for token in doc:\n",
    "    print(token, \"   (\", token._.ipa_, \")\")"
   ]
  },
  {
   "cell_type": "code",
   "execution_count": null,
   "id": "953bc4a4",
   "metadata": {},
   "outputs": [],
   "source": []
  }
 ],
 "metadata": {
  "kernelspec": {
   "display_name": ".spa",
   "language": "python",
   "name": ".spa"
  },
  "language_info": {
   "codemirror_mode": {
    "name": "ipython",
    "version": 3
   },
   "file_extension": ".py",
   "mimetype": "text/x-python",
   "name": "python",
   "nbconvert_exporter": "python",
   "pygments_lexer": "ipython3",
   "version": "3.9.12"
  }
 },
 "nbformat": 4,
 "nbformat_minor": 5
}
