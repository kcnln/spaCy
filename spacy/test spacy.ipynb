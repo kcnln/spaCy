{
 "cells": [
  {
   "cell_type": "code",
   "execution_count": 1,
   "id": "c3600d39",
   "metadata": {},
   "outputs": [
    {
     "name": "stdout",
     "output_type": "stream",
     "text": [
      "Unexpected exception formatting exception. Falling back to standard exception\n"
     ]
    },
    {
     "name": "stderr",
     "output_type": "stream",
     "text": [
      "Traceback (most recent call last):\n",
      "  File \".spa/lib/python3.9/site-packages/numpy/__init__.pxd\", line 942, in numpy.import_array\n",
      "RuntimeError: module compiled against API version 0x10 but this version of numpy is 0xf\n",
      "\n",
      "During handling of the above exception, another exception occurred:\n",
      "\n",
      "Traceback (most recent call last):\n",
      "  File \"/Users/caseynolan/.env/lib/python3.9/site-packages/IPython/core/interactiveshell.py\", line 3397, in run_code\n",
      "    exec(code_obj, self.user_global_ns, self.user_ns)\n",
      "  File \"/var/folders/z0/slq02xg90y75zd7ytf7s5pc80000gn/T/ipykernel_17386/713059334.py\", line 1, in <cell line: 1>\n",
      "    import spacy\n",
      "  File \"/Users/caseynolan/Documents/GitHub/kc/spaCy/spacy/__init__.py\", line 14, in <module>\n",
      "    from . import pipeline  # noqa: F401\n",
      "  File \"/Users/caseynolan/Documents/GitHub/kc/spaCy/spacy/pipeline/__init__.py\", line 1, in <module>\n",
      "    from .attributeruler import AttributeRuler\n",
      "  File \"/Users/caseynolan/Documents/GitHub/kc/spaCy/spacy/pipeline/attributeruler.py\", line 6, in <module>\n",
      "    from .pipe import Pipe\n",
      "  File \"spacy/pipeline/pipe.pyx\", line 1, in init spacy.pipeline.pipe\n",
      "    # cython: infer_types=True, profile=True\n",
      "  File \"spacy/vocab.pyx\", line 1, in init spacy.vocab\n",
      "    # cython: profile=True\n",
      "  File \"spacy/lexeme.pyx\", line 6, in init spacy.lexeme\n",
      "    np.import_array()\n",
      "  File \".spa/lib/python3.9/site-packages/numpy/__init__.pxd\", line 944, in numpy.import_array\n",
      "ImportError: numpy.core.multiarray failed to import\n",
      "\n",
      "During handling of the above exception, another exception occurred:\n",
      "\n",
      "Traceback (most recent call last):\n",
      "  File \"/Users/caseynolan/.env/lib/python3.9/site-packages/IPython/core/interactiveshell.py\", line 1992, in showtraceback\n",
      "    stb = self.InteractiveTB.structured_traceback(\n",
      "  File \"/Users/caseynolan/.env/lib/python3.9/site-packages/IPython/core/ultratb.py\", line 1118, in structured_traceback\n",
      "    return FormattedTB.structured_traceback(\n",
      "  File \"/Users/caseynolan/.env/lib/python3.9/site-packages/IPython/core/ultratb.py\", line 1012, in structured_traceback\n",
      "    return VerboseTB.structured_traceback(\n",
      "  File \"/Users/caseynolan/.env/lib/python3.9/site-packages/IPython/core/ultratb.py\", line 865, in structured_traceback\n",
      "    formatted_exception = self.format_exception_as_a_whole(etype, evalue, etb, number_of_lines_of_context,\n",
      "  File \"/Users/caseynolan/.env/lib/python3.9/site-packages/IPython/core/ultratb.py\", line 818, in format_exception_as_a_whole\n",
      "    frames.append(self.format_record(r))\n",
      "  File \"/Users/caseynolan/.env/lib/python3.9/site-packages/IPython/core/ultratb.py\", line 736, in format_record\n",
      "    result += ''.join(_format_traceback_lines(frame_info.lines, Colors, self.has_colors, lvals))\n",
      "  File \"/Users/caseynolan/.env/lib/python3.9/site-packages/stack_data/utils.py\", line 145, in cached_property_wrapper\n",
      "    value = obj.__dict__[self.func.__name__] = self.func(obj)\n",
      "  File \"/Users/caseynolan/.env/lib/python3.9/site-packages/stack_data/core.py\", line 698, in lines\n",
      "    pieces = self.included_pieces\n",
      "  File \"/Users/caseynolan/.env/lib/python3.9/site-packages/stack_data/utils.py\", line 145, in cached_property_wrapper\n",
      "    value = obj.__dict__[self.func.__name__] = self.func(obj)\n",
      "  File \"/Users/caseynolan/.env/lib/python3.9/site-packages/stack_data/core.py\", line 649, in included_pieces\n",
      "    pos = scope_pieces.index(self.executing_piece)\n",
      "  File \"/Users/caseynolan/.env/lib/python3.9/site-packages/stack_data/utils.py\", line 145, in cached_property_wrapper\n",
      "    value = obj.__dict__[self.func.__name__] = self.func(obj)\n",
      "  File \"/Users/caseynolan/.env/lib/python3.9/site-packages/stack_data/core.py\", line 628, in executing_piece\n",
      "    return only(\n",
      "  File \"/Users/caseynolan/.env/lib/python3.9/site-packages/executing/executing.py\", line 164, in only\n",
      "    raise NotOneValueFound('Expected one value, found 0')\n",
      "executing.executing.NotOneValueFound: Expected one value, found 0\n"
     ]
    }
   ],
   "source": [
    "import spacy \n",
    "from spacy.lookups import Lookups"
   ]
  },
  {
   "cell_type": "code",
   "execution_count": 2,
   "id": "bf492c91",
   "metadata": {},
   "outputs": [],
   "source": [
    "nlp = spacy.blank(\"cy\")"
   ]
  },
  {
   "cell_type": "code",
   "execution_count": 3,
   "id": "2236aafa",
   "metadata": {},
   "outputs": [],
   "source": [
    "text = (\"Sgen ti\")"
   ]
  },
  {
   "cell_type": "code",
   "execution_count": 4,
   "id": "040f70a3",
   "metadata": {},
   "outputs": [],
   "source": [
    "doc = nlp(text)"
   ]
  },
  {
   "cell_type": "code",
   "execution_count": 5,
   "id": "4b6042fe",
   "metadata": {},
   "outputs": [
    {
     "name": "stdout",
     "output_type": "stream",
     "text": [
      "<class 'spacy.tokens.doc.Doc'>\n"
     ]
    }
   ],
   "source": [
    "print(type(doc))"
   ]
  },
  {
   "cell_type": "code",
   "execution_count": 6,
   "id": "12b1cb15",
   "metadata": {},
   "outputs": [
    {
     "name": "stdout",
     "output_type": "stream",
     "text": [
      "Sgen\n",
      "ti\n"
     ]
    }
   ],
   "source": [
    "for token in doc:\n",
    "    print(token.text)"
   ]
  },
  {
   "cell_type": "code",
   "execution_count": 7,
   "id": "7d9b1cad",
   "metadata": {},
   "outputs": [],
   "source": [
    "from spacy.lang.cy import Welsh"
   ]
  },
  {
   "cell_type": "code",
   "execution_count": 8,
   "id": "bc439338",
   "metadata": {},
   "outputs": [],
   "source": [
    "@spacy.registry.languages(\"cy\")\n",
    "class Welsh(Welsh):\n",
    "    lang = \"cy\""
   ]
  },
  {
   "cell_type": "code",
   "execution_count": 9,
   "id": "857edfe9",
   "metadata": {},
   "outputs": [],
   "source": [
    "nlp = spacy.blank(\"cy\")"
   ]
  },
  {
   "cell_type": "code",
   "execution_count": 10,
   "id": "e4c3eafb",
   "metadata": {},
   "outputs": [],
   "source": [
    "text = (\"Sgen ti\")\n",
    "doc = nlp(text)"
   ]
  },
  {
   "cell_type": "code",
   "execution_count": 11,
   "id": "7e3aa5d5",
   "metadata": {},
   "outputs": [
    {
     "name": "stdout",
     "output_type": "stream",
     "text": [
      "Sgen \n",
      "ti \n"
     ]
    }
   ],
   "source": [
    "for token in doc:\n",
    "    print(token.text, token.lemma_)"
   ]
  },
  {
   "cell_type": "code",
   "execution_count": 2,
   "id": "7283410c",
   "metadata": {},
   "outputs": [
    {
     "name": "stdout",
     "output_type": "stream",
     "text": [
      "Unexpected exception formatting exception. Falling back to standard exception\n"
     ]
    },
    {
     "name": "stderr",
     "output_type": "stream",
     "text": [
      "Traceback (most recent call last):\n",
      "  File \".spa/lib/python3.9/site-packages/numpy/__init__.pxd\", line 942, in numpy.import_array\n",
      "RuntimeError: module compiled against API version 0x10 but this version of numpy is 0xf\n",
      "\n",
      "During handling of the above exception, another exception occurred:\n",
      "\n",
      "Traceback (most recent call last):\n",
      "  File \"/Users/caseynolan/.env/lib/python3.9/site-packages/IPython/core/interactiveshell.py\", line 3397, in run_code\n",
      "    exec(code_obj, self.user_global_ns, self.user_ns)\n",
      "  File \"/var/folders/z0/slq02xg90y75zd7ytf7s5pc80000gn/T/ipykernel_17386/2163070354.py\", line 1, in <cell line: 1>\n",
      "    import spacy\n",
      "  File \"/Users/caseynolan/Documents/GitHub/kc/spaCy/spacy/__init__.py\", line 14, in <module>\n",
      "    from . import pipeline  # noqa: F401\n",
      "  File \"/Users/caseynolan/Documents/GitHub/kc/spaCy/spacy/pipeline/__init__.py\", line 1, in <module>\n",
      "    from .attributeruler import AttributeRuler\n",
      "  File \"/Users/caseynolan/Documents/GitHub/kc/spaCy/spacy/pipeline/attributeruler.py\", line 6, in <module>\n",
      "    from .pipe import Pipe\n",
      "  File \"spacy/pipeline/pipe.pyx\", line 1, in init spacy.pipeline.pipe\n",
      "    # cython: infer_types=True, profile=True\n",
      "  File \"spacy/vocab.pyx\", line 1, in init spacy.vocab\n",
      "    # cython: profile=True\n",
      "  File \"spacy/lexeme.pyx\", line 6, in init spacy.lexeme\n",
      "    np.import_array()\n",
      "  File \".spa/lib/python3.9/site-packages/numpy/__init__.pxd\", line 944, in numpy.import_array\n",
      "ImportError: numpy.core.multiarray failed to import\n",
      "\n",
      "During handling of the above exception, another exception occurred:\n",
      "\n",
      "Traceback (most recent call last):\n",
      "  File \"/Users/caseynolan/.env/lib/python3.9/site-packages/IPython/core/interactiveshell.py\", line 1992, in showtraceback\n",
      "    stb = self.InteractiveTB.structured_traceback(\n",
      "  File \"/Users/caseynolan/.env/lib/python3.9/site-packages/IPython/core/ultratb.py\", line 1118, in structured_traceback\n",
      "    return FormattedTB.structured_traceback(\n",
      "  File \"/Users/caseynolan/.env/lib/python3.9/site-packages/IPython/core/ultratb.py\", line 1012, in structured_traceback\n",
      "    return VerboseTB.structured_traceback(\n",
      "  File \"/Users/caseynolan/.env/lib/python3.9/site-packages/IPython/core/ultratb.py\", line 865, in structured_traceback\n",
      "    formatted_exception = self.format_exception_as_a_whole(etype, evalue, etb, number_of_lines_of_context,\n",
      "  File \"/Users/caseynolan/.env/lib/python3.9/site-packages/IPython/core/ultratb.py\", line 818, in format_exception_as_a_whole\n",
      "    frames.append(self.format_record(r))\n",
      "  File \"/Users/caseynolan/.env/lib/python3.9/site-packages/IPython/core/ultratb.py\", line 736, in format_record\n",
      "    result += ''.join(_format_traceback_lines(frame_info.lines, Colors, self.has_colors, lvals))\n",
      "  File \"/Users/caseynolan/.env/lib/python3.9/site-packages/stack_data/utils.py\", line 145, in cached_property_wrapper\n",
      "    value = obj.__dict__[self.func.__name__] = self.func(obj)\n",
      "  File \"/Users/caseynolan/.env/lib/python3.9/site-packages/stack_data/core.py\", line 698, in lines\n",
      "    pieces = self.included_pieces\n",
      "  File \"/Users/caseynolan/.env/lib/python3.9/site-packages/stack_data/utils.py\", line 145, in cached_property_wrapper\n",
      "    value = obj.__dict__[self.func.__name__] = self.func(obj)\n",
      "  File \"/Users/caseynolan/.env/lib/python3.9/site-packages/stack_data/core.py\", line 649, in included_pieces\n",
      "    pos = scope_pieces.index(self.executing_piece)\n",
      "  File \"/Users/caseynolan/.env/lib/python3.9/site-packages/stack_data/utils.py\", line 145, in cached_property_wrapper\n",
      "    value = obj.__dict__[self.func.__name__] = self.func(obj)\n",
      "  File \"/Users/caseynolan/.env/lib/python3.9/site-packages/stack_data/core.py\", line 628, in executing_piece\n",
      "    return only(\n",
      "  File \"/Users/caseynolan/.env/lib/python3.9/site-packages/executing/executing.py\", line 164, in only\n",
      "    raise NotOneValueFound('Expected one value, found 0')\n",
      "executing.executing.NotOneValueFound: Expected one value, found 0\n"
     ]
    }
   ],
   "source": [
    "import spacy \n",
    "nlp = spacy.blank(\"cy\")"
   ]
  },
  {
   "cell_type": "code",
   "execution_count": null,
   "id": "8e39337c",
   "metadata": {},
   "outputs": [],
   "source": []
  }
 ],
 "metadata": {
  "kernelspec": {
   "display_name": ".env",
   "language": "python",
   "name": ".env"
  },
  "language_info": {
   "codemirror_mode": {
    "name": "ipython",
    "version": 3
   },
   "file_extension": ".py",
   "mimetype": "text/x-python",
   "name": "python",
   "nbconvert_exporter": "python",
   "pygments_lexer": "ipython3",
   "version": "3.9.13"
  }
 },
 "nbformat": 4,
 "nbformat_minor": 5
}
